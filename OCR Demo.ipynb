{
 "cells": [
  {
   "cell_type": "code",
   "execution_count": null,
   "id": "a1ce2767",
   "metadata": {},
   "outputs": [],
   "source": [
    "# !pip install easyocr\n",
    "# !conda install scikit-image"
   ]
  },
  {
   "cell_type": "code",
   "execution_count": null,
   "id": "f5d3ca06",
   "metadata": {},
   "outputs": [],
   "source": [
    "import easyocr\n",
    "import cv2\n",
    "from matplotlib import pyplot as plt\n",
    "import numpy as np"
   ]
  },
  {
   "cell_type": "code",
   "execution_count": null,
   "id": "5158e8f8",
   "metadata": {},
   "outputs": [],
   "source": [
    "# make sure to download models for offline use\n",
    "# en = English, ru=Russian, ch_sim=Chinese Simplified, ch_tra=Chinese Traditional\n",
    "IMAGE_PATH = './Data/image_ru_en.png'\n",
    "reader = easyocr.Reader(['en', 'ru'], gpu=False, model_storage_directory='./Data')\n",
    "result = reader.readtext(IMAGE_PATH)\n",
    "result"
   ]
  },
  {
   "cell_type": "code",
   "execution_count": null,
   "id": "80352dff",
   "metadata": {},
   "outputs": [],
   "source": [
    "img = cv2.imread(IMAGE_PATH)\n",
    "spacer = 100\n",
    "text = []\n",
    "for detection in result: \n",
    "    text.append(detection[1])\n",
    "    top_left = tuple(detection[0][0])\n",
    "    bottom_right = tuple(detection[0][2])\n",
    "    img = cv2.rectangle(img,top_left,bottom_right,(0,255,0),3)\n",
    "print(' '.join(text))    \n",
    "plt.imshow(img)\n",
    "plt.show()"
   ]
  },
  {
   "cell_type": "code",
   "execution_count": null,
   "id": "70605e22",
   "metadata": {},
   "outputs": [],
   "source": []
  }
 ],
 "metadata": {
  "kernelspec": {
   "display_name": "Python 3",
   "language": "python",
   "name": "python3"
  },
  "language_info": {
   "codemirror_mode": {
    "name": "ipython",
    "version": 3
   },
   "file_extension": ".py",
   "mimetype": "text/x-python",
   "name": "python",
   "nbconvert_exporter": "python",
   "pygments_lexer": "ipython3",
   "version": "3.8.10"
  }
 },
 "nbformat": 4,
 "nbformat_minor": 5
}
